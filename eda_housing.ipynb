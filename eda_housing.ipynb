{
 "cells": [
  {
   "cell_type": "markdown",
   "metadata": {},
   "source": [
    "# Goal\n",
    "What is Kaggle: \n",
    "- Machine learning competitions\n",
    "- Community of data scientists\n",
    "- Place to learn awesome stuff\n",
    "\n",
    "Competition description `House Prices: Advanced Regression Techniques`:\n",
    "> Ask a home buyer to describe their dream house, and they probably won't begin with the height of the basement ceiling or the proximity to an east-west railroad. But this playground competition's dataset proves that much more influences price negotiations than the number of bedrooms or a white-picket fence.\n",
    "> \n",
    "> With 79 explanatory variables describing (almost) every aspect of residential homes in Ames, Iowa, this competition challenges you to **predict the final price of each home**.\n",
    "Practice Skills\n",
    ">\n",
    ">    - Creative feature engineering \n",
    ">    - Advanced regression techniques like random forest and gradient boosting\n",
    ">\n",
    "> Acknowledgments\n",
    ">\n",
    "> The Ames Housing dataset was compiled by Dean De Cock for use in data science education. It's an incredible alternative for data scientists looking for a modernized and expanded version of the often cited Boston Housing dataset. \n"
   ]
  },
  {
   "cell_type": "markdown",
   "metadata": {},
   "source": [
    "1. Import pandas\n",
    "2. Read in the `train.csv` file"
   ]
  },
  {
   "cell_type": "code",
   "execution_count": null,
   "metadata": {},
   "outputs": [],
   "source": []
  },
  {
   "cell_type": "code",
   "execution_count": null,
   "metadata": {},
   "outputs": [],
   "source": []
  },
  {
   "cell_type": "markdown",
   "metadata": {},
   "source": [
    "Puh, what do we got here?\n",
    "1. How many observations and how many variables are there?\n",
    "2. What are the column names?\n",
    "3. Print the head of the df"
   ]
  },
  {
   "cell_type": "code",
   "execution_count": null,
   "metadata": {},
   "outputs": [],
   "source": []
  },
  {
   "cell_type": "markdown",
   "metadata": {},
   "source": [
    "For easier working, let's make our dataset a little smaller and only select some of the variables. \n",
    "1. Assign a smaller dataset to a new variable and only select `Id, SalePrice, YearBuilt, GrLivArea, TotalBsmtSF, PoolArea, TotRmsAbvGrd`, `LandSlope`, `CentralAir`.\n",
    "2. In the folder where the data was located there is a text file named `data_description.txt`, open it and check the meaning of these variables!"
   ]
  },
  {
   "cell_type": "code",
   "execution_count": null,
   "metadata": {},
   "outputs": [],
   "source": []
  },
  {
   "cell_type": "markdown",
   "metadata": {},
   "source": [
    "Let's look at some variables, `SalePrice`, `YearBuilt`, `PoolArea`,`LandSlope`, `CentralAir` (Hint: Use the `.describe()` mehtod!):\n",
    " 1. How many observations are there?\n",
    " 2. What is the average price?\n",
    " 3. What is the min and max price?\n",
    " 4. How old is the oldest and youngest house in the data?\n",
    " 5. How big is the biggest pool?\n",
    " 6. How many unique values are there for LandSlope and CentralAir"
   ]
  },
  {
   "cell_type": "code",
   "execution_count": null,
   "metadata": {},
   "outputs": [],
   "source": []
  },
  {
   "cell_type": "code",
   "execution_count": null,
   "metadata": {},
   "outputs": [],
   "source": []
  },
  {
   "cell_type": "markdown",
   "metadata": {},
   "source": [
    "There are three levels of `LandSlope` how many observations are there for each level? Hint: Search in the pandas documentation for the `value_counts` function."
   ]
  },
  {
   "cell_type": "code",
   "execution_count": null,
   "metadata": {},
   "outputs": [],
   "source": []
  },
  {
   "cell_type": "markdown",
   "metadata": {},
   "source": [
    "What are the data types of the columns? "
   ]
  },
  {
   "cell_type": "code",
   "execution_count": null,
   "metadata": {},
   "outputs": [],
   "source": []
  },
  {
   "cell_type": "markdown",
   "metadata": {},
   "source": [
    "Cast the two columns with data type to \"category\" (Hint: Use the pandas `.astype()` method!). "
   ]
  },
  {
   "cell_type": "code",
   "execution_count": null,
   "metadata": {},
   "outputs": [],
   "source": []
  },
  {
   "cell_type": "markdown",
   "metadata": {},
   "source": [
    "Check the data types again to confirm that it worked!"
   ]
  },
  {
   "cell_type": "code",
   "execution_count": null,
   "metadata": {},
   "outputs": [],
   "source": []
  },
  {
   "cell_type": "markdown",
   "metadata": {},
   "source": [
    "Let's find out some interesting stuff about the data!\n",
    "1. What is the mean sale price of a house with central air conditioning vs. no central air conditioning\n",
    "2. What is the average sale price of a house built before or in 1950 vs built after 1950?"
   ]
  },
  {
   "cell_type": "code",
   "execution_count": null,
   "metadata": {},
   "outputs": [],
   "source": []
  },
  {
   "cell_type": "code",
   "execution_count": null,
   "metadata": {},
   "outputs": [],
   "source": []
  },
  {
   "cell_type": "code",
   "execution_count": null,
   "metadata": {},
   "outputs": [],
   "source": []
  }
 ],
 "metadata": {
  "kernelspec": {
   "display_name": "Python [conda env:py36]",
   "language": "python",
   "name": "conda-env-py36-py"
  },
  "language_info": {
   "codemirror_mode": {
    "name": "ipython",
    "version": 3
   },
   "file_extension": ".py",
   "mimetype": "text/x-python",
   "name": "python",
   "nbconvert_exporter": "python",
   "pygments_lexer": "ipython3",
   "version": "3.6.6"
  }
 },
 "nbformat": 4,
 "nbformat_minor": 2
}
